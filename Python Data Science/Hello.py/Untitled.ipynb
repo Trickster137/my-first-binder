{
 "cells": [
  {
   "cell_type": "code",
   "execution_count": 4,
   "id": "b7c580a5-7dc7-464a-85b1-0398f7bc7dd5",
   "metadata": {
    "tags": []
   },
   "outputs": [
    {
     "name": "stdout",
     "output_type": "stream",
     "text": [
      "Hello from Binder!\n"
     ]
    }
   ],
   "source": [
    "print(\"Hello from Binder!\")"
   ]
  },
  {
   "cell_type": "code",
   "execution_count": null,
   "id": "af1a8ed6-06fa-4403-847b-4bde92955cad",
   "metadata": {},
   "outputs": [],
   "source": []
  }
 ],
 "metadata": {
  "kernelspec": {
   "display_name": "Python 3 (ipykernel)",
   "language": "python",
   "name": "python3"
  },
  "language_info": {
   "codemirror_mode": {
    "name": "ipython",
    "version": 3
   },
   "file_extension": ".py",
   "mimetype": "text/x-python",
   "name": "python",
   "nbconvert_exporter": "python",
   "pygments_lexer": "ipython3",
   "version": "3.11.7"
  }
 },
 "nbformat": 4,
 "nbformat_minor": 5
}
